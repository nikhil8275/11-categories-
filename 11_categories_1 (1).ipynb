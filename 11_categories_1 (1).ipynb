{
  "nbformat": 4,
  "nbformat_minor": 0,
  "metadata": {
    "colab": {
      "provenance": []
    },
    "kernelspec": {
      "name": "python3",
      "display_name": "Python 3"
    },
    "language_info": {
      "name": "python"
    }
  },
  "cells": [
    {
      "cell_type": "code",
      "source": [],
      "metadata": {
        "id": "ZO-7s70azIBb"
      },
      "execution_count": null,
      "outputs": []
    },
    {
      "cell_type": "code",
      "source": [],
      "metadata": {
        "id": "tHrvUZ9Wmq5L"
      },
      "execution_count": null,
      "outputs": []
    },
    {
      "cell_type": "code",
      "source": [
        "import pandas as pd\n",
        "import re\n",
        "import numpy as np\n",
        "from sklearn.model_selection import train_test_split\n",
        "from sklearn.feature_extraction.text import TfidfVectorizer\n",
        "from sklearn.ensemble import RandomForestClassifier\n",
        "from sklearn.metrics import precision_recall_fscore_support\n",
        "from google.colab import drive\n",
        "drive.mount('/content/drive')\n",
        "\n",
        "file_data = '/content/drive/MyDrive/sample_11_categories_1.csv'\n",
        "df = pd.read_csv(file_data)\n",
        "\n",
        "df['combined_text'] = df[['text', 'html_title', 'h1', 'h2', 'p']].fillna('').agg(' '.join, axis=1)\n",
        "label_columns = ['Software company', 'Marketing agency', 'Legal services', 'Advertising agency',\n",
        "                 'Restaurant', 'Solar energy company', 'Travel agency', 'E-commerce service',\n",
        "                 'Real estate agency', 'Life insurance agency', 'College']\n",
        "y = df[label_columns]\n",
        "\n",
        "\n",
        "def clean_text(text):\n",
        "    text = text.lower()\n",
        "    text = re.sub(r'[^a-z0-9\\s]', '', text)\n",
        "    text = re.sub(r'\\s+', ' ', text).strip()\n",
        "    return text\n",
        "\n",
        "df['clean_text'] = df['combined_text'].apply(clean_text)\n",
        "\n",
        "X = df['clean_text']\n",
        "\n",
        "X_train, X_test, y_train, y_test = train_test_split(X, y, test_size=0.2, random_state=42)\n",
        "\n",
        "vectorizer = TfidfVectorizer(max_features=5000)\n",
        "X_train_tfidf = vectorizer.fit_transform(X_train)\n",
        "X_test_tfidf = vectorizer.transform(X_test)\n",
        "\n",
        "model = RandomForestClassifier(random_state=42, n_estimators=100)\n",
        "model.fit(X_train_tfidf, y_train)\n",
        "\n",
        "y_probs_list = model.predict_proba(X_test_tfidf)\n",
        "\n",
        "y_probs = np.vstack([probs[:, 1] for probs in y_probs_list]).T\n",
        "\n",
        "threshold = 0.7\n",
        "def apply_threshold(probs, threshold=0.5):\n",
        "    probs = np.array(probs)\n",
        "    return (probs >= threshold).astype(int)\n",
        "\n",
        "y_pred = apply_threshold(y_probs, threshold)\n",
        "\n",
        "precisions, recalls, fscores, supports = precision_recall_fscore_support(y_test, y_pred, average=None, zero_division=0)\n",
        "\n",
        "print(f\"{'Label':25} {'Precision':10} {'Recall':10} {'F1-Score':10} {'Support':7}\")\n",
        "for label, precision, recall, f1, support in zip(y.columns, precisions, recalls, fscores, supports):\n",
        "    print(f\"{label:25} {precision*100:9.2f}% {recall*100:9.2f}% {f1*100:9.2f}% {support:7}\")\n",
        "\n",
        "\n",
        "\n",
        "\n",
        "\n",
        "\n",
        "\n",
        "import requests\n",
        "from bs4 import BeautifulSoup\n",
        "import numpy as np\n",
        "\n",
        "def predict_website_category(url, vectorizer, model, threshold=0.5):\n",
        "    try:\n",
        "        headers = {\n",
        "            'User-Agent': 'Mozilla/5.0 (Windows NT 10.0; Win64; x64) AppleWebKit/537.36 (KHTML, like Gecko) Chrome/115.0.0.0 Safari/537.36'\n",
        "        }\n",
        "        response = requests.get(url, headers=headers, timeout=10)\n",
        "        response.raise_for_status()\n",
        "    except Exception as e:\n",
        "        print(f\"Error fetching the URL: {e}\")\n",
        "        return\n",
        "\n",
        "    soup = BeautifulSoup(response.text, 'html.parser')\n",
        "\n",
        "    text = soup.get_text(separator=' ', strip=True)\n",
        "    title = soup.title.string if soup.title else ''\n",
        "    h1 = ' '.join([tag.get_text() for tag in soup.find_all('h1')])\n",
        "    h2 = ' '.join([tag.get_text() for tag in soup.find_all('h2')])\n",
        "    p = ' '.join([tag.get_text() for tag in soup.find_all('p')])\n",
        "\n",
        "    combined = f\"{text} {title} {h1} {h2} {p}\"\n",
        "    cleaned = clean_text(combined)\n",
        "\n",
        "    vectorized = vectorizer.transform([cleaned])\n",
        "\n",
        "    probs_list = model.predict_proba(vectorized)\n",
        "    probs = np.vstack([probs[:, 1] for probs in probs_list]).T\n",
        "\n",
        "    preds = apply_threshold(probs, threshold)\n",
        "\n",
        "    results = list(zip(y.columns, probs[0], preds[0]))\n",
        "\n",
        "    results_sorted = sorted(results, key=lambda x: x[1], reverse=True)\n",
        "\n",
        "    print(f\"\\n🔍 Prediction for URL: {url}\")\n",
        "    print(\"Predicted Categories and Confidence:\")\n",
        "\n",
        "    found = False\n",
        "    for label, prob, pred in results_sorted:\n",
        "        print(f\"- {label}: {prob:.3f} {'✅' if pred == 1 else ''}\")\n",
        "        if pred == 1:\n",
        "            found = True\n",
        "\n",
        "    if not found:\n",
        "        print(\" No category matched confidently.\")\n",
        "\n",
        "\n",
        "\n",
        "\n",
        "import joblib\n",
        "\n",
        "joblib.dump(model, '/content/drive/MyDrive/website_category_model.pkl')\n",
        "\n",
        "joblib.dump(vectorizer, '/content/drive/MyDrive/tfidf_vectorizer.pkl')\n"
      ],
      "metadata": {
        "id": "zDif9nR6zFT8",
        "colab": {
          "base_uri": "https://localhost:8080/"
        },
        "outputId": "83585ab7-c5ae-4b8f-90cf-6597828abfe4"
      },
      "execution_count": 6,
      "outputs": [
        {
          "output_type": "stream",
          "name": "stdout",
          "text": [
            "Drive already mounted at /content/drive; to attempt to forcibly remount, call drive.mount(\"/content/drive\", force_remount=True).\n",
            "Label                     Precision  Recall     F1-Score   Support\n",
            "Software company             100.00%     29.63%     45.71%     135\n",
            "Marketing agency              98.41%     48.44%     64.92%     128\n",
            "Legal services               100.00%     10.00%     18.18%      60\n",
            "Advertising agency            97.73%     44.33%     60.99%      97\n",
            "Restaurant                    79.41%     45.00%     57.45%      60\n",
            "Solar energy company         100.00%     63.49%     77.67%      63\n",
            "Travel agency                100.00%     36.36%     53.33%      55\n",
            "E-commerce service           100.00%     27.27%     42.86%      77\n",
            "Real estate agency            95.45%     34.43%     50.60%      61\n",
            "Life insurance agency        100.00%     42.37%     59.52%      59\n",
            "College                      100.00%     66.67%     80.00%      54\n"
          ]
        },
        {
          "output_type": "execute_result",
          "data": {
            "text/plain": [
              "['/content/drive/MyDrive/tfidf_vectorizer.pkl']"
            ]
          },
          "metadata": {},
          "execution_count": 6
        }
      ]
    },
    {
      "cell_type": "code",
      "source": [
        "predict_website_category(\"https://vyosim.com/\", vectorizer, model)"
      ],
      "metadata": {
        "colab": {
          "base_uri": "https://localhost:8080/"
        },
        "id": "SLE9Hxb2nM09",
        "outputId": "a1563ffb-ab09-4d3d-f4bb-9f425b3447d3"
      },
      "execution_count": 7,
      "outputs": [
        {
          "output_type": "stream",
          "name": "stdout",
          "text": [
            "\n",
            "🔍 Prediction for URL: https://vyosim.com/\n",
            "Predicted Categories and Confidence:\n",
            "- Software company: 0.590 ✅\n",
            "- Marketing agency: 0.250 \n",
            "- E-commerce service: 0.240 \n",
            "- Legal services: 0.120 \n",
            "- Advertising agency: 0.100 \n",
            "- College: 0.050 \n",
            "- Solar energy company: 0.040 \n",
            "- Real estate agency: 0.040 \n",
            "- Restaurant: 0.030 \n",
            "- Life insurance agency: 0.030 \n",
            "- Travel agency: 0.020 \n"
          ]
        }
      ]
    }
  ]
}